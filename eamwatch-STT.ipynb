{
  "cells": [
    {
      "cell_type": "markdown",
      "metadata": {
        "id": "view-in-github",
        "colab_type": "text"
      },
      "source": [
        "<a href=\"https://colab.research.google.com/github/sniper7kills/CoLabNotebooks/blob/master/eamwatch-STT.ipynb\" target=\"_parent\"><img src=\"https://colab.research.google.com/assets/colab-badge.svg\" alt=\"Open In Colab\"/></a>"
      ]
    },
    {
      "cell_type": "markdown",
      "source": [
        "# EAM.WATCH Example Speech to Text"
      ],
      "metadata": {
        "id": "B4QN6pKYAmnR"
      }
    },
    {
      "cell_type": "markdown",
      "metadata": {
        "id": "v_SgamvYQ1ML"
      },
      "source": [
        "## Installing `spchcat`\n",
        "\n",
        "Example script showing how to install the `spchcat` tool from a .deb package installer.\n",
        "\n",
        "The following are links to the source of this document.\n",
        "\n",
        "<table class=\"tfo-notebook-buttons\" align=\"left\">\n",
        "  <td>\n",
        "      <a target=\"_blank\" href=\"https://colab.research.google.com/github/petewarden/spchcat/blob/main/notebooks/install.ipynb\"><img src=\"https://www.tensorflow.org/images/colab_logo_32px.png\" />Run in Google Colab</a>\n",
        "  </td>\n",
        "  <td>\n",
        "      <a target=\"_blank\" href=\"https://github.com/petewarden/spchcat/blob/main/notebooks/install.ipynb\"><img src=\"https://www.tensorflow.org/images/GitHub-Mark-32px.png\" />View source on GitHub</a>\n",
        "  </td>\n",
        "</table>"
      ]
    },
    {
      "cell_type": "markdown",
      "metadata": {
        "id": "2iPaesXqRGL4"
      },
      "source": [
        "### Fetch the Package\n",
        "\n",
        "We'll install the `spchcat` speech recognition tool from a `.deb` package, downloaded from [github.com/petewarden/spchcat/releases](https://github.com/petewarden/spchcat/releases), so use `wget` to fetch the latest version."
      ]
    },
    {
      "cell_type": "code",
      "execution_count": 2,
      "metadata": {
        "id": "xbUFTBZwRwji"
      },
      "outputs": [],
      "source": [
        "!wget -q https://github.com/petewarden/spchcat/releases/download/v0.0.2-alpha/spchcat_0.0-2_amd64.deb"
      ]
    },
    {
      "cell_type": "markdown",
      "metadata": {
        "id": "oBDTBC57R8uy"
      },
      "source": [
        "### Install the Package\n",
        "\n",
        "On a desktop machine we could just double-click on the package to open and install it, but because we're in a notebook we'll use the `dpkg` tool instead."
      ]
    },
    {
      "cell_type": "code",
      "execution_count": 5,
      "metadata": {
        "colab": {
          "base_uri": "https://localhost:8080/"
        },
        "id": "WPIGB-qPRhNA",
        "outputId": "5ca505e5-0cd2-48f0-ba4e-1fff4cd88cd1"
      },
      "outputs": [
        {
          "output_type": "stream",
          "name": "stdout",
          "text": [
            "Selecting previously unselected package spchcat.\n",
            "(Reading database ... 155113 files and directories currently installed.)\n",
            "Preparing to unpack spchcat_0.0-2_amd64.deb ...\n",
            "Unpacking spchcat (0.0-2) ...\n",
            "Setting up spchcat (0.0-2) ...\n"
          ]
        }
      ],
      "source": [
        "!dpkg -i spchcat_0.0-2_amd64.deb"
      ]
    },
    {
      "cell_type": "markdown",
      "source": [
        ""
      ],
      "metadata": {
        "id": "9j16T2ut_sTy"
      }
    },
    {
      "cell_type": "markdown",
      "source": [
        "## Test against submitted messages"
      ],
      "metadata": {
        "id": "Twko0b1uAQM_"
      }
    },
    {
      "cell_type": "markdown",
      "source": [
        "In the following test we expect to recieve the following EAM:\n",
        "\n",
        "```ANI5HOAKZWAVLNJHC4LGSIOFZ5YLSKQ```"
      ],
      "metadata": {
        "id": "aj2XIQ2qAHcU"
      }
    },
    {
      "cell_type": "code",
      "source": [
        "# ID: 82073b6d-1bb5-41c5-8053-68d17e0dbd5a https://eam.watch/view/82073b6d-1bb5-41c5-8053-68d17e0dbd5a\n",
        "!wget https://eamwatch-production.s3.amazonaws.com/recordings/82073b6d-1bb5-41c5-8053-68d17e0dbd5a/a24fe528-cba6-4f27-9eca-bc7ccf74163d\n",
        "!mv a24fe528-cba6-4f27-9eca-bc7ccf74163d 82073b6d-1bb5-41c5-8053-68d17e0dbd5a.wav\n",
        "!spchcat 82073b6d-1bb5-41c5-8053-68d17e0dbd5a.wav"
      ],
      "metadata": {
        "colab": {
          "base_uri": "https://localhost:8080/"
        },
        "id": "GS7b-e9I_laC",
        "outputId": "5f033880-4696-4ccf-dfb3-db04f72b838f"
      },
      "execution_count": 6,
      "outputs": [
        {
          "output_type": "stream",
          "name": "stdout",
          "text": [
            "--2022-02-21 16:06:30--  https://eamwatch-production.s3.amazonaws.com/recordings/82073b6d-1bb5-41c5-8053-68d17e0dbd5a/a24fe528-cba6-4f27-9eca-bc7ccf74163d\n",
            "Resolving eamwatch-production.s3.amazonaws.com (eamwatch-production.s3.amazonaws.com)... 52.217.129.73\n",
            "Connecting to eamwatch-production.s3.amazonaws.com (eamwatch-production.s3.amazonaws.com)|52.217.129.73|:443... connected.\n",
            "HTTP request sent, awaiting response... 200 OK\n",
            "Length: 4096556 (3.9M) [audio/wav]\n",
            "Saving to: ‘a24fe528-cba6-4f27-9eca-bc7ccf74163d’\n",
            "\n",
            "\r          a24fe528-   0%[                    ]       0  --.-KB/s               \ra24fe528-cba6-4f27- 100%[===================>]   3.91M  --.-KB/s    in 0.09s   \n",
            "\n",
            "2022-02-21 16:06:30 (41.7 MB/s) - ‘a24fe528-cba6-4f27-9eca-bc7ccf74163d’ saved [4096556/4096556]\n",
            "\n",
            "TensorFlow: v2.3.0-14-g4bdd3955115\n",
            " Coqui STT: v1.1.0-0-gf3605e23\n",
            "Warning: original sample rate (16000) is lower than 14238kHz. Up-sampling might produce erratic speech recognition.\n",
            "\n",
            "hejira \n"
          ]
        }
      ]
    },
    {
      "cell_type": "markdown",
      "source": [
        "In the following test we expect to recieve the following EAM:\n",
        "\n",
        "```B4LG44GIBJAYAQVRYOGKQNPZGYVWIS```"
      ],
      "metadata": {
        "id": "m0PJCKod_-N7"
      }
    },
    {
      "cell_type": "code",
      "source": [
        "# ID: abd7473a-8bc1-49aa-aec2-43006c26b727 https://eam.watch/view/abd7473a-8bc1-49aa-aec2-43006c26b727\n",
        "!wget https://eamwatch-production.s3.amazonaws.com/recordings/abd7473a-8bc1-49aa-aec2-43006c26b727/76d700c7-d26a-4b02-9252-12f43e1d1519\n",
        "!mv 76d700c7-d26a-4b02-9252-12f43e1d1519 abd7473a-8bc1-49aa-aec2-43006c26b727.wav\n",
        "!spchcat abd7473a-8bc1-49aa-aec2-43006c26b727.wav"
      ],
      "metadata": {
        "colab": {
          "base_uri": "https://localhost:8080/"
        },
        "id": "DxqXoOTU_oJN",
        "outputId": "7972777f-61f6-4428-9e97-3a5dc8232f71"
      },
      "execution_count": 7,
      "outputs": [
        {
          "output_type": "stream",
          "name": "stdout",
          "text": [
            "--2022-02-21 16:07:20--  https://eamwatch-production.s3.amazonaws.com/recordings/abd7473a-8bc1-49aa-aec2-43006c26b727/76d700c7-d26a-4b02-9252-12f43e1d1519\n",
            "Resolving eamwatch-production.s3.amazonaws.com (eamwatch-production.s3.amazonaws.com)... 52.217.69.236\n",
            "Connecting to eamwatch-production.s3.amazonaws.com (eamwatch-production.s3.amazonaws.com)|52.217.69.236|:443... connected.\n",
            "HTTP request sent, awaiting response... 200 OK\n",
            "Length: 4064300 (3.9M) [audio/wav]\n",
            "Saving to: ‘76d700c7-d26a-4b02-9252-12f43e1d1519’\n",
            "\n",
            "76d700c7-d26a-4b02- 100%[===================>]   3.88M  25.4MB/s    in 0.2s    \n",
            "\n",
            "2022-02-21 16:07:20 (25.4 MB/s) - ‘76d700c7-d26a-4b02-9252-12f43e1d1519’ saved [4064300/4064300]\n",
            "\n",
            "TensorFlow: v2.3.0-14-g4bdd3955115\n",
            " Coqui STT: v1.1.0-0-gf3605e23\n",
            "Warning: original sample rate (16000) is lower than 14238kHz. Up-sampling might produce erratic speech recognition.\n",
            "\n",
            "hen \n"
          ]
        }
      ]
    },
    {
      "cell_type": "markdown",
      "source": [
        "In the following test we expect to recieve the following EAM:\n",
        "\n",
        "```3RZTXHLEHNNHTR4363FQS2RSPHCA2N4J2OOHXOF5Y44G533S47NZZBMMA6ZX7Z```"
      ],
      "metadata": {
        "id": "7XBtIeLX_vJi"
      }
    },
    {
      "cell_type": "code",
      "execution_count": 8,
      "metadata": {
        "id": "yVLUfQp_Seh5",
        "colab": {
          "base_uri": "https://localhost:8080/"
        },
        "outputId": "5dca339a-a363-4df5-f886-1fadb6de6f3f"
      },
      "outputs": [
        {
          "output_type": "stream",
          "name": "stdout",
          "text": [
            "--2022-02-21 16:08:15--  https://eamwatch-production.s3.amazonaws.com/recordings/e3ce82e7-0854-4459-930a-e3cdaf631b4f/e3e84902-8c01-4167-9a96-6fdb9f9c6486\n",
            "Resolving eamwatch-production.s3.amazonaws.com (eamwatch-production.s3.amazonaws.com)... 52.216.115.35\n",
            "Connecting to eamwatch-production.s3.amazonaws.com (eamwatch-production.s3.amazonaws.com)|52.216.115.35|:443... connected.\n",
            "HTTP request sent, awaiting response... 200 OK\n",
            "Length: 3680300 (3.5M) [audio/wav]\n",
            "Saving to: ‘e3e84902-8c01-4167-9a96-6fdb9f9c6486’\n",
            "\n",
            "e3e84902-8c01-4167- 100%[===================>]   3.51M  18.7MB/s    in 0.2s    \n",
            "\n",
            "2022-02-21 16:08:15 (18.7 MB/s) - ‘e3e84902-8c01-4167-9a96-6fdb9f9c6486’ saved [3680300/3680300]\n",
            "\n",
            "TensorFlow: v2.3.0-14-g4bdd3955115\n",
            " Coqui STT: v1.1.0-0-gf3605e23\n",
            "Warning: original sample rate (16000) is lower than 8000kHz. Up-sampling might produce erratic speech recognition.\n",
            "\n",
            "at rayther \n"
          ]
        }
      ],
      "source": [
        "# ID: e3ce82e7-0854-4459-930a-e3cdaf631b4f https://eam.watch/view/e3ce82e7-0854-4459-930a-e3cdaf631b4f\n",
        "!wget https://eamwatch-production.s3.amazonaws.com/recordings/e3ce82e7-0854-4459-930a-e3cdaf631b4f/e3e84902-8c01-4167-9a96-6fdb9f9c6486\n",
        "!mv e3e84902-8c01-4167-9a96-6fdb9f9c6486 e3ce82e7-0854-4459-930a-e3cdaf631b4f.wav\n",
        "!spchcat e3ce82e7-0854-4459-930a-e3cdaf631b4f.wav"
      ]
    }
  ],
  "metadata": {
    "colab": {
      "name": "EAM-TEST.ipynb",
      "provenance": [],
      "collapsed_sections": [],
      "include_colab_link": true
    },
    "kernelspec": {
      "display_name": "Python 3",
      "name": "python3"
    },
    "language_info": {
      "name": "python"
    }
  },
  "nbformat": 4,
  "nbformat_minor": 0
}